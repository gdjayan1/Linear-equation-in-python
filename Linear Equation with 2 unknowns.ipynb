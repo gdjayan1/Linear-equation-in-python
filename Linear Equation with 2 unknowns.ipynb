{
 "cells": [
  {
   "cell_type": "markdown",
   "metadata": {},
   "source": [
    "#  <h1><center>Solve 2D linear equations</center></h1> "
   ]
  },
  {
   "cell_type": "code",
   "execution_count": 19,
   "metadata": {},
   "outputs": [],
   "source": [
    "# the following code helps to solve simultanious equations with 2 unknowns \n",
    "\n",
    "\n",
    "def line_2D(eqn1,eqn2):\n",
    "\n",
    "    try:\n",
    "        import re \n",
    "        eqn1 = re.findall(\"[-\\d]+\",eqn1) \n",
    "        eqn1 = list(map(int, eqn1))\n",
    "        a=eqn1[0]\n",
    "        b=eqn1[1]\n",
    "        c =eqn1[2]\n",
    "        eqn2 = re.findall(\"[-\\d]+\",eqn2) \n",
    "        eqn2 = list(map(int, eqn2))\n",
    "        a1=eqn2[0]\n",
    "        b1=eqn2[1]\n",
    "        c1 =eqn2[2]\n",
    "        if (a == -a1 and b == -b1) or(a==a1 and b == b1 and c== -c1):\n",
    "            return 'No Solution'\n",
    "\n",
    "        elif a==-a1:\n",
    "            y = b+b1\n",
    "            c_value = c+c1\n",
    "            y_value = c_value/y\n",
    "            x_value = (c-b*y_value)/a\n",
    "            print('x,y=',(x_value,y_value))\n",
    "\n",
    "        elif b==-b1:\n",
    "            x = a+(a1)\n",
    "            c_value = c+(c1)\n",
    "            x_value = c_value/x\n",
    "            y_value = (c-a*x_value)/b\n",
    "            print('x,y=',(x_value,y_value))\n",
    "\n",
    "        elif a==a1 and b == b1 and c== c1:\n",
    "            return 'Unique Solution'\n",
    "\n",
    "        else:\n",
    "            a_=-(a*a1)\n",
    "            b_=-(b*a1)\n",
    "            c_=-(c*a1)\n",
    "            a1_=(a*a1)\n",
    "            b1_=(a*b1)\n",
    "            c1_ =(a*c1)\n",
    "            y = b_+b1_\n",
    "            c_value = c_+c1_\n",
    "            y_value = c_value/y\n",
    "            x_value = (c_-b_*y_value)/a_\n",
    "            print('x,y=',(x_value,y_value))\n",
    "    \n",
    "    except IndexError:\n",
    "        print('Enter the coefficient of x as 1 or check the equation ')\n",
    "\n",
    "   \n",
    "      "
   ]
  },
  {
   "cell_type": "code",
   "execution_count": 20,
   "metadata": {},
   "outputs": [
    {
     "name": "stdout",
     "output_type": "stream",
     "text": [
      "x,y= (-6.0, 2.0)\n"
     ]
    }
   ],
   "source": [
    "line_2D('3x+2y-14','4x+2y-20')\n"
   ]
  },
  {
   "cell_type": "code",
   "execution_count": 21,
   "metadata": {},
   "outputs": [
    {
     "data": {
      "text/plain": [
       "'Unique Solution'"
      ]
     },
     "execution_count": 21,
     "metadata": {},
     "output_type": "execute_result"
    }
   ],
   "source": [
    "line_2D('1x+1y=1','1x+1y=1')"
   ]
  },
  {
   "cell_type": "code",
   "execution_count": 22,
   "metadata": {},
   "outputs": [
    {
     "data": {
      "text/plain": [
       "'No Solution'"
      ]
     },
     "execution_count": 22,
     "metadata": {},
     "output_type": "execute_result"
    }
   ],
   "source": [
    "line_2D('-1x+1y=1','1x-1y=1')"
   ]
  },
  {
   "cell_type": "code",
   "execution_count": 23,
   "metadata": {},
   "outputs": [
    {
     "name": "stdout",
     "output_type": "stream",
     "text": [
      "Enter the coefficient of x as 1 or check the equation \n"
     ]
    }
   ],
   "source": [
    "line_2D('x+y=1','x-y=2')"
   ]
  },
  {
   "cell_type": "code",
   "execution_count": null,
   "metadata": {},
   "outputs": [],
   "source": []
  },
  {
   "cell_type": "code",
   "execution_count": null,
   "metadata": {},
   "outputs": [],
   "source": []
  },
  {
   "cell_type": "code",
   "execution_count": null,
   "metadata": {},
   "outputs": [],
   "source": []
  },
  {
   "cell_type": "code",
   "execution_count": null,
   "metadata": {},
   "outputs": [],
   "source": []
  },
  {
   "cell_type": "code",
   "execution_count": null,
   "metadata": {},
   "outputs": [],
   "source": []
  }
 ],
 "metadata": {
  "kernelspec": {
   "display_name": "Python 3",
   "language": "python",
   "name": "python3"
  },
  "language_info": {
   "codemirror_mode": {
    "name": "ipython",
    "version": 3
   },
   "file_extension": ".py",
   "mimetype": "text/x-python",
   "name": "python",
   "nbconvert_exporter": "python",
   "pygments_lexer": "ipython3",
   "version": "3.7.4"
  }
 },
 "nbformat": 4,
 "nbformat_minor": 2
}
